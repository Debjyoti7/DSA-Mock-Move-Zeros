{
 "cells": [
  {
   "cell_type": "markdown",
   "id": "88008192",
   "metadata": {},
   "source": [
    "Given an integer array nums, move all 0's to the end of it while maintaining the relative order of the non-zero elements.\n",
    "\n",
    "Note that you must do this in-place without making a copy of the array.\n",
    "\n",
    "Example 1:\n",
    "Input: nums = [0,1,0,3,12]\n",
    "Output: [1,3,12,0,0]\n",
    "\n",
    "Example 2:\n",
    "Input: nums = [0]\n",
    "Output: [0]\n",
    "\n",
    "Constraints:\n",
    "a. 1 <= nums.length <= 10^4\n",
    "b. -2^31 <= nums[i] <= 2^31 - 1\n"
   ]
  },
  {
   "cell_type": "code",
   "execution_count": 8,
   "id": "ae0fd2d8",
   "metadata": {},
   "outputs": [],
   "source": [
    "def moveZeroes(nums):\n",
    "    insertPos =0\n",
    "    \n",
    "\n",
    "    \n",
    "    \n",
    "    for currentPos in range(len(nums)):\n",
    "        if nums[currentPos] != 0:\n",
    "            nums[insertPos], nums[currentPos] = nums[currentPos] , nums[insertPos]\n",
    "            insertPos += 1\n",
    "            \n",
    "            \n",
    "        # Fill the remaining elements with zeroes\n",
    "    for i in range(insertPos, len(nums)):\n",
    "        nums[i] = 0\n",
    "\n",
    "    return nums"
   ]
  },
  {
   "cell_type": "code",
   "execution_count": 9,
   "id": "6b5f7aa5",
   "metadata": {},
   "outputs": [
    {
     "name": "stdout",
     "output_type": "stream",
     "text": [
      "[1, 3, 12, 0, 0]\n"
     ]
    }
   ],
   "source": [
    "print(moveZeroes([0, 1, 0, 3, 12]))  "
   ]
  },
  {
   "cell_type": "code",
   "execution_count": null,
   "id": "97e13d9e",
   "metadata": {},
   "outputs": [],
   "source": []
  }
 ],
 "metadata": {
  "kernelspec": {
   "display_name": "Python 3 (ipykernel)",
   "language": "python",
   "name": "python3"
  },
  "language_info": {
   "codemirror_mode": {
    "name": "ipython",
    "version": 3
   },
   "file_extension": ".py",
   "mimetype": "text/x-python",
   "name": "python",
   "nbconvert_exporter": "python",
   "pygments_lexer": "ipython3",
   "version": "3.10.9"
  }
 },
 "nbformat": 4,
 "nbformat_minor": 5
}
